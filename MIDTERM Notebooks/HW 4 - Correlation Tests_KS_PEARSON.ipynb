{
 "cells": [
  {
   "cell_type": "markdown",
   "metadata": {},
   "source": [
    "## From HW4, Assignment 4"
   ]
  },
  {
   "cell_type": "code",
   "execution_count": 34,
   "metadata": {
    "collapsed": false
   },
   "outputs": [
    {
     "name": "stdout",
     "output_type": "stream",
     "text": [
      "Populating the interactive namespace from numpy and matplotlib\n"
     ]
    }
   ],
   "source": [
    "from __future__  import print_function, division\n",
    "import pylab as pl\n",
    "import pandas as pd\n",
    "import numpy as np\n",
    "import os\n",
    "import json\n",
    "import scipy.stats\n",
    "\n",
    "%pylab inline\n",
    "\n",
    "DEBUG = False"
   ]
  },
  {
   "cell_type": "code",
   "execution_count": 2,
   "metadata": {
    "collapsed": false
   },
   "outputs": [
    {
     "data": {
      "text/plain": [
       "'/home/cusp/lag552/PUIdata'"
      ]
     },
     "execution_count": 2,
     "metadata": {},
     "output_type": "execute_result"
    }
   ],
   "source": [
    "os.getenv('PUIDATA')"
   ]
  },
  {
   "cell_type": "code",
   "execution_count": 3,
   "metadata": {
    "collapsed": false
   },
   "outputs": [
    {
     "name": "stdout",
     "output_type": "stream",
     "text": [
      "  % Total    % Received % Xferd  Average Speed   Time    Time     Time  Current\n",
      "                                 Dload  Upload   Total   Spent    Left  Speed\n",
      "100 12.1M  100 12.1M    0     0  20.6M      0 --:--:-- --:--:-- --:--:-- 27.9M\n"
     ]
    }
   ],
   "source": [
    "!curl -O 'https://s3.amazonaws.com/tripdata/201412-citibike-tripdata.zip'"
   ]
  },
  {
   "cell_type": "code",
   "execution_count": 4,
   "metadata": {
    "collapsed": false
   },
   "outputs": [
    {
     "name": "stdout",
     "output_type": "stream",
     "text": [
      "Archive:  201412-citibike-tripdata.zip\n",
      "  inflating: 201412-citibike-tripdata.csv  \n"
     ]
    }
   ],
   "source": [
    "!unzip 201412-citibike-tripdata.zip"
   ]
  },
  {
   "cell_type": "code",
   "execution_count": 5,
   "metadata": {
    "collapsed": false
   },
   "outputs": [
    {
     "data": {
      "text/html": [
       "<div>\n",
       "<table border=\"1\" class=\"dataframe\">\n",
       "  <thead>\n",
       "    <tr style=\"text-align: right;\">\n",
       "      <th></th>\n",
       "      <th>tripduration</th>\n",
       "      <th>starttime</th>\n",
       "      <th>stoptime</th>\n",
       "      <th>start station id</th>\n",
       "      <th>start station name</th>\n",
       "      <th>start station latitude</th>\n",
       "      <th>start station longitude</th>\n",
       "      <th>end station id</th>\n",
       "      <th>end station name</th>\n",
       "      <th>end station latitude</th>\n",
       "      <th>end station longitude</th>\n",
       "      <th>bikeid</th>\n",
       "      <th>usertype</th>\n",
       "      <th>birth year</th>\n",
       "      <th>gender</th>\n",
       "    </tr>\n",
       "  </thead>\n",
       "  <tbody>\n",
       "    <tr>\n",
       "      <th>0</th>\n",
       "      <td>1257</td>\n",
       "      <td>12/1/2014 00:00:28</td>\n",
       "      <td>12/1/2014 00:21:25</td>\n",
       "      <td>475</td>\n",
       "      <td>E 16 St &amp; Irving Pl</td>\n",
       "      <td>40.735243</td>\n",
       "      <td>-73.987586</td>\n",
       "      <td>521</td>\n",
       "      <td>8 Ave &amp; W 31 St</td>\n",
       "      <td>40.750450</td>\n",
       "      <td>-73.994811</td>\n",
       "      <td>16047</td>\n",
       "      <td>Customer</td>\n",
       "      <td>NaN</td>\n",
       "      <td>0</td>\n",
       "    </tr>\n",
       "    <tr>\n",
       "      <th>1</th>\n",
       "      <td>275</td>\n",
       "      <td>12/1/2014 00:00:43</td>\n",
       "      <td>12/1/2014 00:05:18</td>\n",
       "      <td>498</td>\n",
       "      <td>Broadway &amp; W 32 St</td>\n",
       "      <td>40.748549</td>\n",
       "      <td>-73.988084</td>\n",
       "      <td>546</td>\n",
       "      <td>E 30 St &amp; Park Ave S</td>\n",
       "      <td>40.744449</td>\n",
       "      <td>-73.983035</td>\n",
       "      <td>18472</td>\n",
       "      <td>Subscriber</td>\n",
       "      <td>1988.0</td>\n",
       "      <td>2</td>\n",
       "    </tr>\n",
       "    <tr>\n",
       "      <th>2</th>\n",
       "      <td>450</td>\n",
       "      <td>12/1/2014 00:01:22</td>\n",
       "      <td>12/1/2014 00:08:52</td>\n",
       "      <td>444</td>\n",
       "      <td>Broadway &amp; W 24 St</td>\n",
       "      <td>40.742354</td>\n",
       "      <td>-73.989151</td>\n",
       "      <td>434</td>\n",
       "      <td>9 Ave &amp; W 18 St</td>\n",
       "      <td>40.743174</td>\n",
       "      <td>-74.003664</td>\n",
       "      <td>19589</td>\n",
       "      <td>Subscriber</td>\n",
       "      <td>1983.0</td>\n",
       "      <td>1</td>\n",
       "    </tr>\n",
       "    <tr>\n",
       "      <th>3</th>\n",
       "      <td>1126</td>\n",
       "      <td>12/1/2014 00:02:17</td>\n",
       "      <td>12/1/2014 00:21:03</td>\n",
       "      <td>475</td>\n",
       "      <td>E 16 St &amp; Irving Pl</td>\n",
       "      <td>40.735243</td>\n",
       "      <td>-73.987586</td>\n",
       "      <td>521</td>\n",
       "      <td>8 Ave &amp; W 31 St</td>\n",
       "      <td>40.750450</td>\n",
       "      <td>-73.994811</td>\n",
       "      <td>21142</td>\n",
       "      <td>Customer</td>\n",
       "      <td>NaN</td>\n",
       "      <td>0</td>\n",
       "    </tr>\n",
       "    <tr>\n",
       "      <th>4</th>\n",
       "      <td>331</td>\n",
       "      <td>12/1/2014 00:02:21</td>\n",
       "      <td>12/1/2014 00:07:52</td>\n",
       "      <td>519</td>\n",
       "      <td>Pershing Square North</td>\n",
       "      <td>40.751873</td>\n",
       "      <td>-73.977706</td>\n",
       "      <td>527</td>\n",
       "      <td>E 33 St &amp; 2 Ave</td>\n",
       "      <td>40.744023</td>\n",
       "      <td>-73.976056</td>\n",
       "      <td>18679</td>\n",
       "      <td>Subscriber</td>\n",
       "      <td>1986.0</td>\n",
       "      <td>2</td>\n",
       "    </tr>\n",
       "  </tbody>\n",
       "</table>\n",
       "</div>"
      ],
      "text/plain": [
       "   tripduration           starttime            stoptime  start station id  \\\n",
       "0          1257  12/1/2014 00:00:28  12/1/2014 00:21:25               475   \n",
       "1           275  12/1/2014 00:00:43  12/1/2014 00:05:18               498   \n",
       "2           450  12/1/2014 00:01:22  12/1/2014 00:08:52               444   \n",
       "3          1126  12/1/2014 00:02:17  12/1/2014 00:21:03               475   \n",
       "4           331  12/1/2014 00:02:21  12/1/2014 00:07:52               519   \n",
       "\n",
       "      start station name  start station latitude  start station longitude  \\\n",
       "0    E 16 St & Irving Pl               40.735243               -73.987586   \n",
       "1     Broadway & W 32 St               40.748549               -73.988084   \n",
       "2     Broadway & W 24 St               40.742354               -73.989151   \n",
       "3    E 16 St & Irving Pl               40.735243               -73.987586   \n",
       "4  Pershing Square North               40.751873               -73.977706   \n",
       "\n",
       "   end station id      end station name  end station latitude  \\\n",
       "0             521       8 Ave & W 31 St             40.750450   \n",
       "1             546  E 30 St & Park Ave S             40.744449   \n",
       "2             434       9 Ave & W 18 St             40.743174   \n",
       "3             521       8 Ave & W 31 St             40.750450   \n",
       "4             527       E 33 St & 2 Ave             40.744023   \n",
       "\n",
       "   end station longitude  bikeid    usertype  birth year  gender  \n",
       "0             -73.994811   16047    Customer         NaN       0  \n",
       "1             -73.983035   18472  Subscriber      1988.0       2  \n",
       "2             -74.003664   19589  Subscriber      1983.0       1  \n",
       "3             -73.994811   21142    Customer         NaN       0  \n",
       "4             -73.976056   18679  Subscriber      1986.0       2  "
      ]
     },
     "execution_count": 5,
     "metadata": {},
     "output_type": "execute_result"
    }
   ],
   "source": [
    "df = pd.read_csv('201412-citibike-tripdata.csv')\n",
    "df.head()"
   ]
  },
  {
   "cell_type": "code",
   "execution_count": 7,
   "metadata": {
    "collapsed": false
   },
   "outputs": [
    {
     "data": {
      "text/html": [
       "<div>\n",
       "<table border=\"1\" class=\"dataframe\">\n",
       "  <thead>\n",
       "    <tr style=\"text-align: right;\">\n",
       "      <th></th>\n",
       "      <th>tripduration</th>\n",
       "      <th>starttime</th>\n",
       "      <th>stoptime</th>\n",
       "      <th>start station id</th>\n",
       "      <th>start station name</th>\n",
       "      <th>start station latitude</th>\n",
       "      <th>start station longitude</th>\n",
       "      <th>end station id</th>\n",
       "      <th>end station name</th>\n",
       "      <th>end station latitude</th>\n",
       "      <th>end station longitude</th>\n",
       "      <th>bikeid</th>\n",
       "      <th>usertype</th>\n",
       "      <th>birth year</th>\n",
       "      <th>gender</th>\n",
       "      <th>date</th>\n",
       "    </tr>\n",
       "  </thead>\n",
       "  <tbody>\n",
       "    <tr>\n",
       "      <th>0</th>\n",
       "      <td>1257</td>\n",
       "      <td>12/1/2014 00:00:28</td>\n",
       "      <td>12/1/2014 00:21:25</td>\n",
       "      <td>475</td>\n",
       "      <td>E 16 St &amp; Irving Pl</td>\n",
       "      <td>40.735243</td>\n",
       "      <td>-73.987586</td>\n",
       "      <td>521</td>\n",
       "      <td>8 Ave &amp; W 31 St</td>\n",
       "      <td>40.750450</td>\n",
       "      <td>-73.994811</td>\n",
       "      <td>16047</td>\n",
       "      <td>Customer</td>\n",
       "      <td>NaN</td>\n",
       "      <td>0</td>\n",
       "      <td>2014-12-01 00:00:28</td>\n",
       "    </tr>\n",
       "    <tr>\n",
       "      <th>1</th>\n",
       "      <td>275</td>\n",
       "      <td>12/1/2014 00:00:43</td>\n",
       "      <td>12/1/2014 00:05:18</td>\n",
       "      <td>498</td>\n",
       "      <td>Broadway &amp; W 32 St</td>\n",
       "      <td>40.748549</td>\n",
       "      <td>-73.988084</td>\n",
       "      <td>546</td>\n",
       "      <td>E 30 St &amp; Park Ave S</td>\n",
       "      <td>40.744449</td>\n",
       "      <td>-73.983035</td>\n",
       "      <td>18472</td>\n",
       "      <td>Subscriber</td>\n",
       "      <td>1988.0</td>\n",
       "      <td>2</td>\n",
       "      <td>2014-12-01 00:00:43</td>\n",
       "    </tr>\n",
       "    <tr>\n",
       "      <th>2</th>\n",
       "      <td>450</td>\n",
       "      <td>12/1/2014 00:01:22</td>\n",
       "      <td>12/1/2014 00:08:52</td>\n",
       "      <td>444</td>\n",
       "      <td>Broadway &amp; W 24 St</td>\n",
       "      <td>40.742354</td>\n",
       "      <td>-73.989151</td>\n",
       "      <td>434</td>\n",
       "      <td>9 Ave &amp; W 18 St</td>\n",
       "      <td>40.743174</td>\n",
       "      <td>-74.003664</td>\n",
       "      <td>19589</td>\n",
       "      <td>Subscriber</td>\n",
       "      <td>1983.0</td>\n",
       "      <td>1</td>\n",
       "      <td>2014-12-01 00:01:22</td>\n",
       "    </tr>\n",
       "    <tr>\n",
       "      <th>3</th>\n",
       "      <td>1126</td>\n",
       "      <td>12/1/2014 00:02:17</td>\n",
       "      <td>12/1/2014 00:21:03</td>\n",
       "      <td>475</td>\n",
       "      <td>E 16 St &amp; Irving Pl</td>\n",
       "      <td>40.735243</td>\n",
       "      <td>-73.987586</td>\n",
       "      <td>521</td>\n",
       "      <td>8 Ave &amp; W 31 St</td>\n",
       "      <td>40.750450</td>\n",
       "      <td>-73.994811</td>\n",
       "      <td>21142</td>\n",
       "      <td>Customer</td>\n",
       "      <td>NaN</td>\n",
       "      <td>0</td>\n",
       "      <td>2014-12-01 00:02:17</td>\n",
       "    </tr>\n",
       "    <tr>\n",
       "      <th>4</th>\n",
       "      <td>331</td>\n",
       "      <td>12/1/2014 00:02:21</td>\n",
       "      <td>12/1/2014 00:07:52</td>\n",
       "      <td>519</td>\n",
       "      <td>Pershing Square North</td>\n",
       "      <td>40.751873</td>\n",
       "      <td>-73.977706</td>\n",
       "      <td>527</td>\n",
       "      <td>E 33 St &amp; 2 Ave</td>\n",
       "      <td>40.744023</td>\n",
       "      <td>-73.976056</td>\n",
       "      <td>18679</td>\n",
       "      <td>Subscriber</td>\n",
       "      <td>1986.0</td>\n",
       "      <td>2</td>\n",
       "      <td>2014-12-01 00:02:21</td>\n",
       "    </tr>\n",
       "  </tbody>\n",
       "</table>\n",
       "</div>"
      ],
      "text/plain": [
       "   tripduration           starttime            stoptime  start station id  \\\n",
       "0          1257  12/1/2014 00:00:28  12/1/2014 00:21:25               475   \n",
       "1           275  12/1/2014 00:00:43  12/1/2014 00:05:18               498   \n",
       "2           450  12/1/2014 00:01:22  12/1/2014 00:08:52               444   \n",
       "3          1126  12/1/2014 00:02:17  12/1/2014 00:21:03               475   \n",
       "4           331  12/1/2014 00:02:21  12/1/2014 00:07:52               519   \n",
       "\n",
       "      start station name  start station latitude  start station longitude  \\\n",
       "0    E 16 St & Irving Pl               40.735243               -73.987586   \n",
       "1     Broadway & W 32 St               40.748549               -73.988084   \n",
       "2     Broadway & W 24 St               40.742354               -73.989151   \n",
       "3    E 16 St & Irving Pl               40.735243               -73.987586   \n",
       "4  Pershing Square North               40.751873               -73.977706   \n",
       "\n",
       "   end station id      end station name  end station latitude  \\\n",
       "0             521       8 Ave & W 31 St             40.750450   \n",
       "1             546  E 30 St & Park Ave S             40.744449   \n",
       "2             434       9 Ave & W 18 St             40.743174   \n",
       "3             521       8 Ave & W 31 St             40.750450   \n",
       "4             527       E 33 St & 2 Ave             40.744023   \n",
       "\n",
       "   end station longitude  bikeid    usertype  birth year  gender  \\\n",
       "0             -73.994811   16047    Customer         NaN       0   \n",
       "1             -73.983035   18472  Subscriber      1988.0       2   \n",
       "2             -74.003664   19589  Subscriber      1983.0       1   \n",
       "3             -73.994811   21142    Customer         NaN       0   \n",
       "4             -73.976056   18679  Subscriber      1986.0       2   \n",
       "\n",
       "                 date  \n",
       "0 2014-12-01 00:00:28  \n",
       "1 2014-12-01 00:00:43  \n",
       "2 2014-12-01 00:01:22  \n",
       "3 2014-12-01 00:02:17  \n",
       "4 2014-12-01 00:02:21  "
      ]
     },
     "execution_count": 7,
     "metadata": {},
     "output_type": "execute_result"
    }
   ],
   "source": [
    "# Needed to convert date and time values for this function to work\n",
    "# Source: http://stackoverflow.com/questions/5045210/how-to-remove-unconverted-data-from-a-python-datetime-object\n",
    "df['date'] = pd.to_datetime(df['starttime'], format=\"%m/%d/%Y %H:%M:%S\")\n",
    "df.head()"
   ]
  },
  {
   "cell_type": "code",
   "execution_count": 8,
   "metadata": {
    "collapsed": false
   },
   "outputs": [
    {
     "data": {
      "text/plain": [
       "Index(['tripduration', 'starttime', 'stoptime', 'start station id',\n",
       "       'start station name', 'start station latitude',\n",
       "       'start station longitude', 'end station id', 'end station name',\n",
       "       'end station latitude', 'end station longitude', 'bikeid', 'usertype',\n",
       "       'birth year', 'gender', 'date'],\n",
       "      dtype='object')"
      ]
     },
     "execution_count": 8,
     "metadata": {},
     "output_type": "execute_result"
    }
   ],
   "source": [
    "df.columns"
   ]
  },
  {
   "cell_type": "markdown",
   "metadata": {},
   "source": [
    "# BY GENDER\n",
    "\n",
    "## splitting data by gender and extracting the age happens in the cell below"
   ]
  },
  {
   "cell_type": "code",
   "execution_count": 9,
   "metadata": {
    "collapsed": true
   },
   "outputs": [],
   "source": [
    "df['ageM'] = 2014 - df['birth year'][(df['usertype'] == 'Subscriber') & (df['gender'] == 1)]\n",
    "df['ageF'] = 2014- df['birth year'][(df['usertype'] == 'Subscriber') & (df['gender'] == 2)]"
   ]
  },
  {
   "cell_type": "code",
   "execution_count": 10,
   "metadata": {
    "collapsed": false
   },
   "outputs": [
    {
     "data": {
      "text/html": [
       "<div>\n",
       "<table border=\"1\" class=\"dataframe\">\n",
       "  <thead>\n",
       "    <tr style=\"text-align: right;\">\n",
       "      <th></th>\n",
       "      <th>tripduration</th>\n",
       "      <th>starttime</th>\n",
       "      <th>stoptime</th>\n",
       "      <th>birth year</th>\n",
       "      <th>gender</th>\n",
       "      <th>date</th>\n",
       "      <th>ageM</th>\n",
       "      <th>ageF</th>\n",
       "    </tr>\n",
       "  </thead>\n",
       "  <tbody>\n",
       "    <tr>\n",
       "      <th>0</th>\n",
       "      <td>1257</td>\n",
       "      <td>12/1/2014 00:00:28</td>\n",
       "      <td>12/1/2014 00:21:25</td>\n",
       "      <td>NaN</td>\n",
       "      <td>0</td>\n",
       "      <td>2014-12-01 00:00:28</td>\n",
       "      <td>NaN</td>\n",
       "      <td>NaN</td>\n",
       "    </tr>\n",
       "    <tr>\n",
       "      <th>1</th>\n",
       "      <td>275</td>\n",
       "      <td>12/1/2014 00:00:43</td>\n",
       "      <td>12/1/2014 00:05:18</td>\n",
       "      <td>1988.0</td>\n",
       "      <td>2</td>\n",
       "      <td>2014-12-01 00:00:43</td>\n",
       "      <td>NaN</td>\n",
       "      <td>26.0</td>\n",
       "    </tr>\n",
       "    <tr>\n",
       "      <th>2</th>\n",
       "      <td>450</td>\n",
       "      <td>12/1/2014 00:01:22</td>\n",
       "      <td>12/1/2014 00:08:52</td>\n",
       "      <td>1983.0</td>\n",
       "      <td>1</td>\n",
       "      <td>2014-12-01 00:01:22</td>\n",
       "      <td>31.0</td>\n",
       "      <td>NaN</td>\n",
       "    </tr>\n",
       "    <tr>\n",
       "      <th>3</th>\n",
       "      <td>1126</td>\n",
       "      <td>12/1/2014 00:02:17</td>\n",
       "      <td>12/1/2014 00:21:03</td>\n",
       "      <td>NaN</td>\n",
       "      <td>0</td>\n",
       "      <td>2014-12-01 00:02:17</td>\n",
       "      <td>NaN</td>\n",
       "      <td>NaN</td>\n",
       "    </tr>\n",
       "    <tr>\n",
       "      <th>4</th>\n",
       "      <td>331</td>\n",
       "      <td>12/1/2014 00:02:21</td>\n",
       "      <td>12/1/2014 00:07:52</td>\n",
       "      <td>1986.0</td>\n",
       "      <td>2</td>\n",
       "      <td>2014-12-01 00:02:21</td>\n",
       "      <td>NaN</td>\n",
       "      <td>28.0</td>\n",
       "    </tr>\n",
       "  </tbody>\n",
       "</table>\n",
       "</div>"
      ],
      "text/plain": [
       "   tripduration           starttime            stoptime  birth year  gender  \\\n",
       "0          1257  12/1/2014 00:00:28  12/1/2014 00:21:25         NaN       0   \n",
       "1           275  12/1/2014 00:00:43  12/1/2014 00:05:18      1988.0       2   \n",
       "2           450  12/1/2014 00:01:22  12/1/2014 00:08:52      1983.0       1   \n",
       "3          1126  12/1/2014 00:02:17  12/1/2014 00:21:03         NaN       0   \n",
       "4           331  12/1/2014 00:02:21  12/1/2014 00:07:52      1986.0       2   \n",
       "\n",
       "                 date  ageM  ageF  \n",
       "0 2014-12-01 00:00:28   NaN   NaN  \n",
       "1 2014-12-01 00:00:43   NaN  26.0  \n",
       "2 2014-12-01 00:01:22  31.0   NaN  \n",
       "3 2014-12-01 00:02:17   NaN   NaN  \n",
       "4 2014-12-01 00:02:21   NaN  28.0  "
      ]
     },
     "execution_count": 10,
     "metadata": {},
     "output_type": "execute_result"
    }
   ],
   "source": [
    "#dropping some data I no longer need\n",
    "df.drop(['start station id',\n",
    "       'start station name', 'start station latitude',\n",
    "       'start station longitude', 'end station id', 'end station name',\n",
    "       'end station latitude', 'end station longitude', 'bikeid', 'usertype'], \n",
    "        axis=1, inplace=True)\n",
    "df.head()"
   ]
  },
  {
   "cell_type": "code",
   "execution_count": 11,
   "metadata": {
    "collapsed": true
   },
   "outputs": [],
   "source": [
    "# dropping nan values\n",
    "df['ageM'].dropna(inplace = True)\n",
    "df['ageF'].dropna(inplace = True)"
   ]
  },
  {
   "cell_type": "code",
   "execution_count": 12,
   "metadata": {
    "collapsed": false
   },
   "outputs": [
    {
     "data": {
      "text/plain": [
       "2    31.0\n",
       "5    41.0\n",
       "6    28.0\n",
       "7    24.0\n",
       "8    32.0\n",
       "Name: ageM, dtype: float64"
      ]
     },
     "execution_count": 12,
     "metadata": {},
     "output_type": "execute_result"
    }
   ],
   "source": [
    "df['ageM'].head()"
   ]
  },
  {
   "cell_type": "code",
   "execution_count": 13,
   "metadata": {
    "collapsed": false
   },
   "outputs": [
    {
     "data": {
      "text/plain": [
       "1     26.0\n",
       "4     28.0\n",
       "17    23.0\n",
       "18    25.0\n",
       "23    61.0\n",
       "Name: ageF, dtype: float64"
      ]
     },
     "execution_count": 13,
     "metadata": {},
     "output_type": "execute_result"
    }
   ],
   "source": [
    "df['ageF'].head()"
   ]
  },
  {
   "cell_type": "markdown",
   "metadata": {},
   "source": [
    "## HISTOGRAMS"
   ]
  },
  {
   "cell_type": "code",
   "execution_count": 24,
   "metadata": {
    "collapsed": false
   },
   "outputs": [
    {
     "data": {
      "text/plain": [
       "<matplotlib.text.Text at 0x7fdbd5071ac8>"
      ]
     },
     "execution_count": 24,
     "metadata": {},
     "output_type": "execute_result"
    },
    {
     "data": {
      "image/png": "[encoded data removed]",
      "text/plain": [
       "<matplotlib.figure.Figure at 0x7fdbd5129470>"
      ]
     },
     "metadata": {},
     "output_type": "display_data"
    }
   ],
   "source": [
    "pl.hist(df['ageM'], bins = np.arange(10, 99, 5))\n",
    "pl.title('male riders')\n",
    "pl.xlabel('age')"
   ]
  },
  {
   "cell_type": "code",
   "execution_count": 25,
   "metadata": {
    "collapsed": false
   },
   "outputs": [
    {
     "data": {
      "text/plain": [
       "<matplotlib.text.Text at 0x7fdbd507b9b0>"
      ]
     },
     "execution_count": 25,
     "metadata": {},
     "output_type": "execute_result"
    },
    {
     "data": {
      "image/png": "[encoded data removed]",
      "text/plain": [
       "<matplotlib.figure.Figure at 0x7fdbd503a5c0>"
      ]
     },
     "metadata": {},
     "output_type": "display_data"
    }
   ],
   "source": [
    "pl.hist(df['ageF'], bins = np.arange(10, 99, 5))\n",
    "pl.title('female riders')\n",
    "pl.xlabel('age')"
   ]
  },
  {
   "cell_type": "markdown",
   "metadata": {},
   "source": [
    "## OR more complicated:"
   ]
  },
  {
   "cell_type": "code",
   "execution_count": 19,
   "metadata": {
    "collapsed": false
   },
   "outputs": [
    {
     "data": {
      "text/plain": [
       "<matplotlib.text.Text at 0x7fdbd527eef0>"
      ]
     },
     "execution_count": 19,
     "metadata": {},
     "output_type": "execute_result"
    },
    {
     "data": {
      "image/png": "[encoded data removed]",
      "text/plain": [
       "<matplotlib.figure.Figure at 0x7fdbd6834a58>"
      ]
     },
     "metadata": {},
     "output_type": "display_data"
    },
    {
     "data": {
      "image/png": "[encoded data removed]",
      "text/plain": [
       "<matplotlib.figure.Figure at 0x7fdbd4d52c18>"
      ]
     },
     "metadata": {},
     "output_type": "display_data"
    }
   ],
   "source": [
    "bins = np.arange(10, 99, 5)\n",
    "#np.arange(start, stop, step)\n",
    "axM = df.ageM.groupby(pd.cut(df.ageM, bins)).agg([count_nonzero]).plot(kind='bar', \n",
    "                                                                legend=False)\n",
    "axM.set_title(\"male riders\")\n",
    "axF = df.ageF.groupby(pd.cut(df.ageF, bins)).agg([count_nonzero]).plot(kind='bar',\n",
    "                                                                legend=False)\n",
    "axF.set_title(\"female riders\")"
   ]
  },
  {
   "cell_type": "code",
   "execution_count": 20,
   "metadata": {
    "collapsed": false
   },
   "outputs": [
    {
     "name": "stdout",
     "output_type": "stream",
     "text": [
      "          count_nonzero\n",
      "ageM                   \n",
      "(10, 15]       0.000000\n",
      "(15, 20]       0.000336\n",
      "(20, 25]       0.017099\n",
      "(25, 30]       0.051402\n",
      "(30, 35]       0.057089\n",
      "(35, 40]       0.039496\n",
      "(40, 45]       0.026017\n",
      "(45, 50]       0.008453\n",
      "(50, 55]       0.011401\n",
      "(55, 60]       0.017416\n",
      "(60, 65]       0.008448\n",
      "(65, 70]       0.002904\n",
      "(70, 75]       0.000538\n",
      "(75, 80]       0.000026\n",
      "(80, 85]       0.000056\n",
      "(85, 90]       0.000036\n",
      "(90, 95]       0.000000\n"
     ]
    },
    {
     "data": {
      "text/plain": [
       "<matplotlib.legend.Legend at 0x7fdbd5178860>"
      ]
     },
     "execution_count": 20,
     "metadata": {},
     "output_type": "execute_result"
    },
    {
     "data": {
      "image/png": "[encoded data removed]",
      "text/plain": [
       "<matplotlib.figure.Figure at 0x7fdbd51faf28>"
      ]
     },
     "metadata": {},
     "output_type": "display_data"
    }
   ],
   "source": [
    "csM=df.ageM.groupby(pd.cut(df.ageM, bins)).agg([count_nonzero]).cumsum()\n",
    "\n",
    "csF=df.ageF.groupby(pd.cut(df.ageF, bins)).agg([count_nonzero]).cumsum()\n",
    "\n",
    "print (np.abs(csM / csM.max()-csF / csF.max()))\n",
    "\n",
    "pl.plot(bins[:-1] + 5, csM / csM.max(), label = \"M\")\n",
    "pl.plot(bins[:-1] + 5, csF / csF.max(), label = \"F\")\n",
    "pl.plot(bins[:-1] + 5, np.sqrt(csF / csF.max() - csM / csM.max())**2, 'k-',\n",
    "        label = \"difference\")\n",
    "\n",
    "pl.legend()"
   ]
  },
  {
   "cell_type": "markdown",
   "metadata": {},
   "source": [
    "# KS TEST\n",
    "\n",
    "We use the KS tests to compare 2 samples and evaluate whether we can say if they are samples extracted from the same distribution.\n",
    "\n",
    "## **Null H: The samples are drawn from the same parent distribution.**\n",
    "\n",
    "*Hypotheses Statements: K-S Test*\n",
    "\n",
    "Null Hypothesis: The independent samples of male and female Citi Bike users have (are drawn from) the same age distribution, alpha = 0.05.\n",
    "\n",
    "Alternative Hypothesis: The independent samples of male and female Citi Bike users have (are drawn from) different age distributions. "
   ]
  },
  {
   "cell_type": "markdown",
   "metadata": {},
   "source": [
    "## Entire Dataset"
   ]
  },
  {
   "cell_type": "code",
   "execution_count": 29,
   "metadata": {
    "collapsed": true
   },
   "outputs": [],
   "source": [
    "alpha = 0.05"
   ]
  },
  {
   "cell_type": "code",
   "execution_count": 26,
   "metadata": {
    "collapsed": false
   },
   "outputs": [
    {
     "name": "stdout",
     "output_type": "stream",
     "text": [
      "Ks_2sampResult(statistic=0.056545419903070215, pvalue=1.2168674061214872e-169)\n"
     ]
    }
   ],
   "source": [
    "# Remove ages over 70\n",
    "ks = scipy.stats.ks_2samp(df.ageM[df.ageM<70], df.ageF[df.ageF<70])\n",
    "print (ks)"
   ]
  },
  {
   "cell_type": "code",
   "execution_count": 27,
   "metadata": {
    "collapsed": true
   },
   "outputs": [],
   "source": [
    "#ks = scipy.stats.ks_2samp(df.ageM, df.ageF)\n",
    "#print (ks)"
   ]
  },
  {
   "cell_type": "code",
   "execution_count": 30,
   "metadata": {
    "collapsed": false
   },
   "outputs": [
    {
     "name": "stdout",
     "output_type": "stream",
     "text": [
      "the Null hypothesis that the samples come from identical distributions \n",
      "is rejected (p<0.05)\n"
     ]
    }
   ],
   "source": [
    "def printRejection(ksp, pv):\n",
    "    print (\"the Null hypothesis that the samples come from identical distributions \")\n",
    "\n",
    "    if ksp > pv: \n",
    "        print (\"cannot be rejected\")\n",
    "    else: \n",
    "        print (\"is rejected (p<{:.2f})\".format(pv))\n",
    "printRejection(ks[1], alpha)"
   ]
  },
  {
   "cell_type": "markdown",
   "metadata": {},
   "source": [
    "## Reduced Dataset (200)\n",
    "\n",
    "I redo the test with a subsample of the data: take only 1 ride every of 200"
   ]
  },
  {
   "cell_type": "code",
   "execution_count": 31,
   "metadata": {
    "collapsed": false
   },
   "outputs": [
    {
     "name": "stdout",
     "output_type": "stream",
     "text": [
      "Ks_2sampResult(statistic=0.066496592242007213, pvalue=0.12873759446361471)\n",
      "the Null hypothesis that the samples come from identical distributions \n",
      "cannot be rejected\n"
     ]
    }
   ],
   "source": [
    "ks = scipy.stats.ks_2samp(df.ageM[::200], df.ageF[::200])\n",
    "print (ks)\n",
    "printRejection(ks[1], alpha)"
   ]
  },
  {
   "cell_type": "markdown",
   "metadata": {},
   "source": [
    "## **Hypotheses Statements: Pearson's AND Spearman's Test**\n",
    "\n",
    "### Null Hypothesis: The two datasets are NOT significantly correlated\n",
    "\n",
    "**Null Hypothesis:** The ages of male and female Citi Bike users **are not significantly correlated,** alpha = 0.05.\n",
    "\n",
    "Alternative Hypothesis: The ages of male and female Citi Bike users are significantly correlated."
   ]
  },
  {
   "cell_type": "markdown",
   "metadata": {},
   "source": [
    "# Pearson's Test\n",
    "\n",
    "### NEED TO SORT AND MAKE DATASETS THE SAME SIZE because a paired test"
   ]
  },
  {
   "cell_type": "code",
   "execution_count": 36,
   "metadata": {
    "collapsed": false
   },
   "outputs": [
    {
     "name": "stdout",
     "output_type": "stream",
     "text": [
      "Pearson's r (0.99781991836447714, 0.0)\n",
      "Pearson's r with reducted data (0.99781991836447714, 0.0)\n"
     ]
    },
    {
     "data": {
      "image/png": "[encoded data removed]",
      "text/plain": [
       "<matplotlib.figure.Figure at 0x7fdbd75aa6d8>"
      ]
     },
     "metadata": {},
     "output_type": "display_data"
    }
   ],
   "source": [
    "# the samples need to be cleaned off nan values \n",
    "# the samples need to be made to the same size. \n",
    "# The best option for that (least likely to bias the result) is to \n",
    "# choose Nf out of Nm values at random\n",
    "\n",
    "np.random.seed(12345)\n",
    "ageFsorted = np.sort(df.ageF[df.ageF<70])\n",
    "#Same as this: \n",
    "#ageFsorted = df.ageF.sort_values()[df.ageF<70]\n",
    "\n",
    "# do the following to take a random number of the male set so it's the same length as the female set\n",
    "ageMsorted = np.sort(np.random.choice(df.ageM[df.ageM<70], len(ageFsorted), replace=False))\n",
    "if DEBUG: \n",
    "    print (len(ageFsorted), len(ageMsorted))\n",
    "\n",
    "pearson = scipy.stats.pearsonr(ageMsorted, ageFsorted)\n",
    "print  (\"Pearson's r\" , pearson)\n",
    "\n",
    "pl.figure(figsize=(8, 8))\n",
    "pl.plot(ageMsorted, ageFsorted, label = \"Full dataset\")\n",
    "\n",
    "\n",
    "\n",
    "# this was not explicitly asked but I am redoing the test with the smaller dataset\n",
    "\n",
    "ageFsorted_short = df.ageF.sort_values()[df.ageF<70][::200]\n",
    "ageMsorted_short = np.sort(np.random.choice(df.ageM[df.ageM<70][::200], len(ageFsorted_short), replace=False))\n",
    "\n",
    "pearson = scipy.stats.pearsonr(ageMsorted, ageFsorted)\n",
    "print  (\"Pearson's r with reducted data\" , pearson)\n",
    "\n",
    "pl.plot(ageMsorted_short, ageFsorted_short, label = \"Reducted data\")\n",
    "\n",
    "#1-1 line\n",
    "pl.plot(pl.xlim(), pl.xlim(), 'k-', label=\"1-1 Age correspondence\")\n",
    "\n",
    "pl.xlabel(\"Male ages\")\n",
    "pl.ylabel(\"Female ages\")\n",
    "title = pl.title(\"Sorted ages\")\n",
    "leg = pl.legend()"
   ]
  },
  {
   "cell_type": "markdown",
   "metadata": {},
   "source": [
    "# Spearman's Test"
   ]
  },
  {
   "cell_type": "code",
   "execution_count": 38,
   "metadata": {
    "collapsed": false
   },
   "outputs": [
    {
     "name": "stdout",
     "output_type": "stream",
     "text": [
      "SpearmanrResult(correlation=0.99916626406913611, pvalue=0.0)\n"
     ]
    }
   ],
   "source": [
    "spearman = scipy.stats.spearmanr(ageMsorted, ageFsorted)\n",
    "print  (spearman)"
   ]
  },
  {
   "cell_type": "markdown",
   "metadata": {},
   "source": [
    "# BY DAY AND NIGHT"
   ]
  },
  {
   "cell_type": "markdown",
   "metadata": {},
   "source": [
    "I am choosing day/night cuts as follows:\n",
    "\n",
    "day: 5AM to 18PM trip start time\n",
    "night: 18PM to 5AM trip start time"
   ]
  },
  {
   "cell_type": "code",
   "execution_count": 42,
   "metadata": {
    "collapsed": false
   },
   "outputs": [
    {
     "data": {
      "text/html": [
       "<div>\n",
       "<table border=\"1\" class=\"dataframe\">\n",
       "  <thead>\n",
       "    <tr style=\"text-align: right;\">\n",
       "      <th></th>\n",
       "      <th>tripduration</th>\n",
       "      <th>starttime</th>\n",
       "      <th>stoptime</th>\n",
       "      <th>birth year</th>\n",
       "      <th>gender</th>\n",
       "      <th>date</th>\n",
       "      <th>ageM</th>\n",
       "      <th>ageF</th>\n",
       "      <th>hour</th>\n",
       "    </tr>\n",
       "  </thead>\n",
       "  <tbody>\n",
       "    <tr>\n",
       "      <th>0</th>\n",
       "      <td>1257</td>\n",
       "      <td>12/1/2014 00:00:28</td>\n",
       "      <td>12/1/2014 00:21:25</td>\n",
       "      <td>NaN</td>\n",
       "      <td>0</td>\n",
       "      <td>2014-12-01 00:00:28</td>\n",
       "      <td>NaN</td>\n",
       "      <td>NaN</td>\n",
       "      <td>0</td>\n",
       "    </tr>\n",
       "    <tr>\n",
       "      <th>1</th>\n",
       "      <td>275</td>\n",
       "      <td>12/1/2014 00:00:43</td>\n",
       "      <td>12/1/2014 00:05:18</td>\n",
       "      <td>1988.0</td>\n",
       "      <td>2</td>\n",
       "      <td>2014-12-01 00:00:43</td>\n",
       "      <td>NaN</td>\n",
       "      <td>26.0</td>\n",
       "      <td>0</td>\n",
       "    </tr>\n",
       "    <tr>\n",
       "      <th>2</th>\n",
       "      <td>450</td>\n",
       "      <td>12/1/2014 00:01:22</td>\n",
       "      <td>12/1/2014 00:08:52</td>\n",
       "      <td>1983.0</td>\n",
       "      <td>1</td>\n",
       "      <td>2014-12-01 00:01:22</td>\n",
       "      <td>31.0</td>\n",
       "      <td>NaN</td>\n",
       "      <td>0</td>\n",
       "    </tr>\n",
       "    <tr>\n",
       "      <th>3</th>\n",
       "      <td>1126</td>\n",
       "      <td>12/1/2014 00:02:17</td>\n",
       "      <td>12/1/2014 00:21:03</td>\n",
       "      <td>NaN</td>\n",
       "      <td>0</td>\n",
       "      <td>2014-12-01 00:02:17</td>\n",
       "      <td>NaN</td>\n",
       "      <td>NaN</td>\n",
       "      <td>0</td>\n",
       "    </tr>\n",
       "    <tr>\n",
       "      <th>4</th>\n",
       "      <td>331</td>\n",
       "      <td>12/1/2014 00:02:21</td>\n",
       "      <td>12/1/2014 00:07:52</td>\n",
       "      <td>1986.0</td>\n",
       "      <td>2</td>\n",
       "      <td>2014-12-01 00:02:21</td>\n",
       "      <td>NaN</td>\n",
       "      <td>28.0</td>\n",
       "      <td>0</td>\n",
       "    </tr>\n",
       "  </tbody>\n",
       "</table>\n",
       "</div>"
      ],
      "text/plain": [
       "   tripduration           starttime            stoptime  birth year  gender  \\\n",
       "0          1257  12/1/2014 00:00:28  12/1/2014 00:21:25         NaN       0   \n",
       "1           275  12/1/2014 00:00:43  12/1/2014 00:05:18      1988.0       2   \n",
       "2           450  12/1/2014 00:01:22  12/1/2014 00:08:52      1983.0       1   \n",
       "3          1126  12/1/2014 00:02:17  12/1/2014 00:21:03         NaN       0   \n",
       "4           331  12/1/2014 00:02:21  12/1/2014 00:07:52      1986.0       2   \n",
       "\n",
       "                 date  ageM  ageF  hour  \n",
       "0 2014-12-01 00:00:28   NaN   NaN     0  \n",
       "1 2014-12-01 00:00:43   NaN  26.0     0  \n",
       "2 2014-12-01 00:01:22  31.0   NaN     0  \n",
       "3 2014-12-01 00:02:17   NaN   NaN     0  \n",
       "4 2014-12-01 00:02:21   NaN  28.0     0  "
      ]
     },
     "execution_count": 42,
     "metadata": {},
     "output_type": "execute_result"
    }
   ],
   "source": [
    "df.head()"
   ]
  },
  {
   "cell_type": "code",
   "execution_count": 43,
   "metadata": {
    "collapsed": false
   },
   "outputs": [
    {
     "data": {
      "text/plain": [
       "Index(['tripduration', 'starttime', 'stoptime', 'birth year', 'gender', 'date',\n",
       "       'ageM', 'ageF', 'hour'],\n",
       "      dtype='object')"
      ]
     },
     "execution_count": 43,
     "metadata": {},
     "output_type": "execute_result"
    }
   ],
   "source": [
    "df.columns"
   ]
  },
  {
   "cell_type": "code",
   "execution_count": 40,
   "metadata": {
    "collapsed": true
   },
   "outputs": [],
   "source": [
    "df['hour'] = df['date'].map(lambda ts: ts.hour)\n",
    "# lamda - if timestamp, make the timestamp hour\n",
    "# map - applies said function to all "
   ]
  },
  {
   "cell_type": "code",
   "execution_count": 54,
   "metadata": {
    "collapsed": true
   },
   "outputs": [],
   "source": [
    "dayrider = df[(df['hour'].values > 5) + (df['hour'].values < 18)]\n",
    "nightrider = df[(df['hour'].values < 5) + (df['hour'].values > 18)]\n",
    "ageD = 2014 - dayrider['birth year']\n",
    "ageN = 2014 - nightrider['birth year']"
   ]
  },
  {
   "cell_type": "code",
   "execution_count": 55,
   "metadata": {
    "collapsed": false
   },
   "outputs": [
    {
     "data": {
      "text/plain": [
       "<matplotlib.text.Text at 0x7fdbd4c35d68>"
      ]
     },
     "execution_count": 55,
     "metadata": {},
     "output_type": "execute_result"
    },
    {
     "data": {
      "image/png": "[encoded data removed]",
      "text/plain": [
       "<matplotlib.figure.Figure at 0x7fdbd4dace48>"
      ]
     },
     "metadata": {},
     "output_type": "display_data"
    }
   ],
   "source": [
    "pl.figure(figsize = (8, 8))\n",
    "h1 = pl.hist(ageD[ageD < 70], label = \"Day rider\", normed=True)\n",
    "h2 = pl.hist(ageN[ageN < 70], label = \"Night rider\", normed=True, alpha = 0.5)\n",
    "title = pl.title(\"histogram of day and night riders' ages\")\n",
    "leg = pl.legend()\n",
    "pl.xlabel('Age')\n",
    "pl.ylabel(\"Rider's fraction\")"
   ]
  },
  {
   "cell_type": "code",
   "execution_count": 56,
   "metadata": {
    "collapsed": false
   },
   "outputs": [
    {
     "name": "stdout",
     "output_type": "stream",
     "text": [
      "Ks_2sampResult(statistic=0.090328385065227113, pvalue=0.014805590929886011)\n"
     ]
    }
   ],
   "source": [
    "# KStest for day vs. night riders, under 70 years old, every 200 sampled\n",
    "ks_dn = scipy.stats.ks_2samp(ageD[ageD < 70][::200], ageN[ageN < 70][::200])\n",
    "print (ks_dn)"
   ]
  },
  {
   "cell_type": "code",
   "execution_count": 58,
   "metadata": {
    "collapsed": false
   },
   "outputs": [
    {
     "name": "stdout",
     "output_type": "stream",
     "text": [
      "the Null hypothesis that the samples come from identical distributions \n",
      "is rejected (p<0.05)\n"
     ]
    }
   ],
   "source": [
    "printRejection(ks_dn[1], alpha)"
   ]
  },
  {
   "cell_type": "markdown",
   "metadata": {},
   "source": [
    "Remember from earlier:\n",
    "    \n",
    "def printRejection(ksp, pv):\n",
    "    print (\"the Null hypothesis that the samples come from identical distributions \")\n",
    "\n",
    "    if ksp > pv: \n",
    "        print (\"cannot be rejected\")\n",
    "    else: \n",
    "        print (\"is rejected (p<{:.2f})\".format(pv))\n",
    "printRejection(ks[1], alpha)"
   ]
  },
  {
   "cell_type": "code",
   "execution_count": null,
   "metadata": {
    "collapsed": true
   },
   "outputs": [],
   "source": []
  }
 ],
 "metadata": {
  "kernelspec": {
   "display_name": "PUI2016_Python3",
   "language": "python",
   "name": "pui2016_python3"
  },
  "language_info": {
   "codemirror_mode": {
    "name": "ipython",
    "version": 3
   },
   "file_extension": ".py",
   "mimetype": "text/x-python",
   "name": "python",
   "nbconvert_exporter": "python",
   "pygments_lexer": "ipython3",
   "version": "3.5.2"
  }
 },
 "nbformat": 4,
 "nbformat_minor": 0
}
