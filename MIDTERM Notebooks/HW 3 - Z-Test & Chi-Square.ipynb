{
 "cells": [
  {
   "cell_type": "code",
   "execution_count": 53,
   "metadata": {
    "collapsed": false
   },
   "outputs": [],
   "source": [
    "from __future__ import division, print_function\n",
    "import numpy as np\n",
    "import os\n",
    "import pandas as pd"
   ]
  },
  {
   "cell_type": "markdown",
   "metadata": {},
   "source": [
    "DATA LINK: https://github.com/fedhere/PUI2016_fb55/blob/master/HW4_fb55/effectivenesofNYCPost-PrisonEmploymentPrograms_solution.ipynb\n",
    "\n",
    "## Z-TEST - Example 1, Does new bus route improve commute time?\n",
    "\n",
    "*Research Question: Is the new bus route for line X8 improving commute time (travel time at peak hours)?*\n",
    "\n",
    "H0: the commute time is the same or longer with the new bus route as it was before: \n",
    "\n",
    "**TimeNew.mean >= TimeOld.mean, significance level = 0.05.**\n",
    "\n",
    "Ha: the commute time is shorter with the new bus route as it was before: \n",
    "\n",
    "**TimeNew.mean < TimeOld.mean**"
   ]
  },
  {
   "cell_type": "code",
   "execution_count": 7,
   "metadata": {
    "collapsed": false
   },
   "outputs": [
    {
     "data": {
      "text/plain": [
       "0"
      ]
     },
     "execution_count": 7,
     "metadata": {},
     "output_type": "execute_result"
    }
   ],
   "source": [
    "os.system(\"curl -O https://raw.githubusercontent.com/fedhere/PUI2016_fb55/master/Lab3_fb55/times.txt\")\n",
    "os.system(\"mv times.txt \" + os.getenv(\"PUIDATA\"))"
   ]
  },
  {
   "cell_type": "code",
   "execution_count": 9,
   "metadata": {
    "collapsed": false
   },
   "outputs": [
    {
     "data": {
      "text/html": [
       "<div>\n",
       "<table border=\"1\" class=\"dataframe\">\n",
       "  <thead>\n",
       "    <tr style=\"text-align: right;\">\n",
       "      <th></th>\n",
       "      <th>durations</th>\n",
       "    </tr>\n",
       "  </thead>\n",
       "  <tbody>\n",
       "    <tr>\n",
       "      <th>0</th>\n",
       "      <td>31.622239</td>\n",
       "    </tr>\n",
       "    <tr>\n",
       "      <th>1</th>\n",
       "      <td>32.821376</td>\n",
       "    </tr>\n",
       "    <tr>\n",
       "      <th>2</th>\n",
       "      <td>30.229101</td>\n",
       "    </tr>\n",
       "    <tr>\n",
       "      <th>3</th>\n",
       "      <td>31.413766</td>\n",
       "    </tr>\n",
       "    <tr>\n",
       "      <th>4</th>\n",
       "      <td>39.010550</td>\n",
       "    </tr>\n",
       "  </tbody>\n",
       "</table>\n",
       "</div>"
      ],
      "text/plain": [
       "   durations\n",
       "0  31.622239\n",
       "1  32.821376\n",
       "2  30.229101\n",
       "3  31.413766\n",
       "4  39.010550"
      ]
     },
     "execution_count": 9,
     "metadata": {},
     "output_type": "execute_result"
    }
   ],
   "source": [
    "times = pd.read_csv(os.getenv('PUIDATA') + '/' + 'times.txt', names=['durations'], header = None)\n",
    "times.head()"
   ]
  },
  {
   "cell_type": "code",
   "execution_count": 10,
   "metadata": {
    "collapsed": false
   },
   "outputs": [
    {
     "data": {
      "text/plain": [
       "pandas.core.frame.DataFrame"
      ]
     },
     "execution_count": 10,
     "metadata": {},
     "output_type": "execute_result"
    }
   ],
   "source": [
    "(type(times))"
   ]
  },
  {
   "cell_type": "code",
   "execution_count": 13,
   "metadata": {
    "collapsed": true
   },
   "outputs": [],
   "source": [
    "#times.durations.values\n",
    "df = times.durations.values"
   ]
  },
  {
   "cell_type": "code",
   "execution_count": 20,
   "metadata": {
    "collapsed": false
   },
   "outputs": [],
   "source": [
    "mean_pop = 36  # given\n",
    "sd_pop = 6  #given\n",
    "mean_sample = df.mean()\n",
    "sd_sample = df.std()\n",
    "N = len(times)\n",
    "alpha = 0.05"
   ]
  },
  {
   "cell_type": "code",
   "execution_count": 21,
   "metadata": {
    "collapsed": false
   },
   "outputs": [
    {
     "data": {
      "text/plain": [
       "2.5563971861666701"
      ]
     },
     "execution_count": 21,
     "metadata": {},
     "output_type": "execute_result"
    }
   ],
   "source": [
    "z = (mean_pop - mean_sample) / (sd_pop / np.sqrt(N))\n",
    "z"
   ]
  },
  {
   "cell_type": "code",
   "execution_count": 22,
   "metadata": {
    "collapsed": false
   },
   "outputs": [
    {
     "name": "stdout",
     "output_type": "stream",
     "text": [
      "Z score for Bus X8 rerouting: 2.6\n",
      "This means we are 2.6 standard deviations away\n",
      "from the mean of the old trip duration\n",
      "\n",
      "\n",
      "The Null Hypothesis that the new route does not improve commuting\n",
      "IS REJECTED at the 95.0% significance level\n"
     ]
    }
   ],
   "source": [
    "# OPTIONAL\n",
    "\n",
    "print(\"Z score for Bus X8 rerouting: {0:.1f}\".format(z))\n",
    "print(\"This means we are {0:.1f} standard deviations away\".format(z))\n",
    "print(\"from the mean of the old trip duration\\n\\n\")\n",
    "if z > 2:\n",
    "    result = \"IS REJECTED\"\n",
    "else: \n",
    "    result = \"CANNOT BE REJECTED\"\n",
    "\n",
    "print(\"The Null Hypothesis that the new route does not improve commuting\")\n",
    "print(\"{0:s} at the {1:.1f}% significance level\".format(result, 100*(1-alpha)))"
   ]
  },
  {
   "cell_type": "markdown",
   "metadata": {},
   "source": [
    "## Interpretation of the Z-statistic\n",
    "\n",
    "This z-statistic of 2.56 means that the mean commute time is 2.56 standard deviations away from the mean of all the bus times. 2 standard deviations away from the mean encompasses 95% of the data - so in this case, there is even less than 5% chance that the fact that the new bus commute time is shorter than the average is due to chance. In other words, it is very unlikely (less than 5%) that the shorter commute time for this bus line is due to chance. This means we can reject the null hypothesis and conclude that the new bus line does indeed reduce commute time"
   ]
  },
  {
   "cell_type": "markdown",
   "metadata": {},
   "source": [
    "# Z-TEST & CHISQUARE - Example 2, Felony Data\n",
    "\n"
   ]
  },
  {
   "cell_type": "markdown",
   "metadata": {},
   "source": [
    "## CEO Transitional Jobs\n",
    "Null Hypothesis: The % of former prisoners employed in CEO transitional jobs after release is the same or lower for candidates who participated in the program as for the control group, significance level p=0.05.\n",
    "\n",
    "H0 Equation: proportion employed in CEO jobs in program group <= proportion employed in CEO jobs in control group\n",
    "\n",
    "$H_0: P_0 - P_1 \\geq$ 0\n",
    "\n",
    "Alternative Hypothesis: The % of former prisoners employed in CEO transitional jobs after release is the higher for candidates who participated in the program as for the control group, significance level p=0.05.\n",
    "\n",
    "Ha Equation: proportion employed in CEO jobs in program group > proportion employed in CEO jobs in control group\n",
    "\n",
    "$H_a: P_0 - P_1 $< 0"
   ]
  },
  {
   "cell_type": "code",
   "execution_count": 23,
   "metadata": {
    "collapsed": false
   },
   "outputs": [
    {
     "name": "stdout",
     "output_type": "stream",
     "text": [
      "we must assess the statistical significance\n"
     ]
    }
   ],
   "source": [
    "# Significance level\n",
    "alpha=0.05\n",
    "# Proportion of control group employed in CEO job\n",
    "p_0 = 3.5*0.01 \n",
    "# Proportion of program group employed in CEO job\n",
    "p_1 = 70.1*0.01\n",
    "\n",
    "if p_0-p_1 >= 0:\n",
    "    print (\"the Null holds\")\n",
    "else:\n",
    "    print (\"we must assess the statistical significance\")\n",
    "\n",
    "# Sample size of control group\n",
    "n_0 = 409\n",
    "# Sample size of program group\n",
    "n_1 = 564\n",
    "\n",
    "# Count of employed in control group\n",
    "Nt_0 = p_0 * n_0\n",
    "# Count of employed in program group\n",
    "Nt_1 = p_1 * n_1"
   ]
  },
  {
   "cell_type": "code",
   "execution_count": 24,
   "metadata": {
    "collapsed": false
   },
   "outputs": [
    {
     "name": "stdout",
     "output_type": "stream",
     "text": [
      "0.4210472764645426\n"
     ]
    }
   ],
   "source": [
    "# Sample proportion (pooled proportion)\n",
    "sp = (p_0 * n_0 + p_1 * n_1) / (n_1 + n_0)\n",
    "print (sp)"
   ]
  },
  {
   "cell_type": "code",
   "execution_count": 25,
   "metadata": {
    "collapsed": false
   },
   "outputs": [
    {
     "name": "stdout",
     "output_type": "stream",
     "text": [
      "0.035 409 564 0.0320658086057\n"
     ]
    }
   ],
   "source": [
    "def sp_stdev(p, n):\n",
    "    return(np.sqrt(p * (1 - p) / n[0] +  p * (1 - p) / n[1]))\n",
    "\n",
    "sp_stdev_2y = sp_stdev(( Nt_0 + Nt_1) / (n_0 + n_1), [n_0, n_1])\n",
    "print (p_0, n_0, n_1, sp_stdev_2y)"
   ]
  },
  {
   "cell_type": "code",
   "execution_count": 26,
   "metadata": {
    "collapsed": false
   },
   "outputs": [
    {
     "name": "stdout",
     "output_type": "stream",
     "text": [
      "20.7697865408\n"
     ]
    }
   ],
   "source": [
    "def zscore(p0, p1, s):\n",
    "    return((p0 - p1) / s)\n",
    "\n",
    "z_2y = zscore(p_1, p_0, sp_stdev_2y)\n",
    "print (z_2y)"
   ]
  },
  {
   "cell_type": "markdown",
   "metadata": {},
   "source": [
    "## How to read a Z-Table\n",
    "\n",
    "https://github.com/fedhere/UInotebooks/blob/master/HowToReadZandChisqTables.md"
   ]
  },
  {
   "cell_type": "code",
   "execution_count": 27,
   "metadata": {
    "collapsed": false
   },
   "outputs": [
    {
     "name": "stdout",
     "output_type": "stream",
     "text": [
      "is the p value 0.00 smaller than the critical value 0.05? \n",
      "YES!\n",
      "the Null hypothesis is rejected\n"
     ]
    }
   ],
   "source": [
    "# The z-value of 20.8 is larger than what's given in the z-table, so we'll take the area value for the highest available value, 0.9998\n",
    "# This is actually not the highest - she was confused, but you get the idea\n",
    "p_2y = 1 - 0.9998\n",
    "\n",
    "\n",
    "def report_result(p,a):\n",
    "    print ('is the p value {0:.2f} smaller than the critical value {1:.2f}? '.format(p,a))\n",
    "    if p < a:\n",
    "        print (\"YES!\")\n",
    "    else: \n",
    "        print (\"NO!\")\n",
    "    \n",
    "    print ('the Null hypothesis is {}'.format( 'rejected' if p < a  else 'not rejected') )\n",
    "\n",
    "    \n",
    "report_result(p_2y,alpha)"
   ]
  },
  {
   "cell_type": "markdown",
   "metadata": {},
   "source": [
    "### Z-Statistic Conclusion: CEO Transitional Job:\n",
    "From our z-statistic, we obtained a p-value of 0.00 from the z-stat table. 0.00 is obviously smaller than our alpha level of 0.05, we can reject the null hypothesis and conclude that the % of former prisoners employed in CEO transitional jobs after release is the higher for candidates who participated in the program as for the control group at a significance level of alpha = 0.05"
   ]
  },
  {
   "cell_type": "markdown",
   "metadata": {},
   "source": [
    "## Felony Conviction Tests\n",
    "\n",
    "Hypotheses Statements: Convicted of a felony\n",
    "\n",
    "Null Hypothesis: Those in the program group have the same or higher rates of felonies over three years after the program than those in the control group, alpha = 0.05.\n",
    "\n",
    "H0 Equation: proportion felonies in program group >= proportion felonies in control group\n",
    "\n",
    "Alternative Hypothesis: Those in the program group have lower rates of felonies over three years following the program than those in the control group.\n",
    "\n",
    "Ha Equation: proportion felonies in program group < proportion felonies in control group"
   ]
  },
  {
   "cell_type": "markdown",
   "metadata": {},
   "source": [
    "## Z-TEST"
   ]
  },
  {
   "cell_type": "code",
   "execution_count": null,
   "metadata": {
    "collapsed": true
   },
   "outputs": [],
   "source": [
    "P_0_recid = 10.0 * 0.01\n",
    "P_1_recid = 11.7 * 0.01\n",
    "n_0_recid = 409\n",
    "n_1_recid = 568\n",
    "\n",
    "\n",
    "Nt_0_recid = P_0_recid  * n_0_recid \n",
    "Nt_1_recid = P_1_recid  * n_1_recid \n",
    "\n",
    "sp_stdev_recid = sp_stdev((Nt_0_recid + Nt_1_recid) / \\\n",
    "                          (n_0_recid + n_1_recid), [n_0_recid, n_1_recid])\n",
    "print ( \"test standard deviation error: %.3f\"%sp_stdev_recid)\n",
    "\n",
    "\n",
    "z_recid = zscore(P_1_recid, P_0_recid, sp_stdev_recid)"
   ]
  },
  {
   "cell_type": "code",
   "execution_count": 28,
   "metadata": {
    "collapsed": false
   },
   "outputs": [
    {
     "name": "stdout",
     "output_type": "stream",
     "text": [
      "the Null holds\n"
     ]
    }
   ],
   "source": [
    "# Significance level\n",
    "alpha=0.05\n",
    "# Proportion of control group convicted of a felony\n",
    "p_0 = 11.7*0.01 \n",
    "# Proportion of program group convected of a felony\n",
    "p_1 = 10.0*0.01\n",
    "\n",
    "if p_0-p_1 >= 0:\n",
    "    print (\"the Null holds\")\n",
    "else:\n",
    "    print (\"we must assess the statistical significance\")\n",
    "\n",
    "# Sample size of control group (with Recidivism data)\n",
    "n_0 = 409\n",
    "# Sample size of program group (with Recidivism data)\n",
    "n_1 = 568\n",
    "\n",
    "# Count of felony convicts in control group\n",
    "Nt_0 = p_0 * n_0\n",
    "# Count of felony convicts in program group\n",
    "Nt_1 = p_1 * n_1"
   ]
  },
  {
   "cell_type": "code",
   "execution_count": 29,
   "metadata": {
    "collapsed": false
   },
   "outputs": [
    {
     "name": "stdout",
     "output_type": "stream",
     "text": [
      "0.10711668372569089\n"
     ]
    }
   ],
   "source": [
    "# Sample proportion (pooled proportion)\n",
    "sp = (p_0 * n_0 + p_1 * n_1) / (n_1 + n_0)\n",
    "print (sp)"
   ]
  },
  {
   "cell_type": "code",
   "execution_count": 31,
   "metadata": {
    "collapsed": false
   },
   "outputs": [
    {
     "name": "stdout",
     "output_type": "stream",
     "text": [
      "0.11699999999999999 409 568 0.0200556791612\n"
     ]
    }
   ],
   "source": [
    "def sp_stdev(p, n):\n",
    "    return(np.sqrt(p * (1 - p) / n[0] +  p * (1 - p) / n[1]))\n",
    "\n",
    "sp_stdev_2y = sp_stdev(( Nt_0 + Nt_1) / (n_0 + n_1), [n_0, n_1])\n",
    "print (p_0, n_0, n_1, sp_stdev_2y)"
   ]
  },
  {
   "cell_type": "code",
   "execution_count": 32,
   "metadata": {
    "collapsed": false
   },
   "outputs": [
    {
     "name": "stdout",
     "output_type": "stream",
     "text": [
      "0.84764020522\n"
     ]
    }
   ],
   "source": [
    "def zscore(p0, p1, s):\n",
    "    return((p0 - p1) / s)\n",
    "\n",
    "z_2y = zscore(p_1, p_0, sp_stdev_2y)\n",
    "print (abs(z_2y))\n",
    "# Absolute value used because our z-table only contains positive values\n",
    "# Could have used the negative value and just not subtracted from 1 in the next step"
   ]
  },
  {
   "cell_type": "code",
   "execution_count": 34,
   "metadata": {
    "collapsed": false
   },
   "outputs": [
    {
     "name": "stdout",
     "output_type": "stream",
     "text": [
      "is the p value 0.20 smaller than the critical value 0.05? \n",
      "NO!\n",
      "the Null hypothesis is not rejected\n"
     ]
    }
   ],
   "source": [
    "# Find area corresponding to z-score of 0.85\n",
    "p_2y = 1 - 0.8023\n",
    "\n",
    "\n",
    "def report_result(p,a):\n",
    "    print ('is the p value {0:.2f} smaller than the critical value {1:.2f}? '.format(p,a))\n",
    "    if p < a:\n",
    "        print (\"YES!\")\n",
    "    else: \n",
    "        print (\"NO!\")\n",
    "    \n",
    "    print ('the Null hypothesis is {}'.format( 'rejected' if p < a  else 'not rejected') )\n",
    "\n",
    "    \n",
    "report_result(p_2y,alpha)"
   ]
  },
  {
   "cell_type": "markdown",
   "metadata": {},
   "source": [
    "## Z-Statistic Conclusion: Convicted of a felony:\n",
    "\n",
    "From our z-statistic, we obtained a p-value of 0.18 from the z-stat table. 0.18 is greater than our alpha level of 0.05, so we fail to reject the null hypothesis that those in the program group have the same or higher rates of felonies over three years after the program than those in the control group."
   ]
  },
  {
   "cell_type": "markdown",
   "metadata": {},
   "source": [
    "## CHISQUARE TEST"
   ]
  },
  {
   "cell_type": "code",
   "execution_count": 36,
   "metadata": {
    "collapsed": false
   },
   "outputs": [
    {
     "name": "stdout",
     "output_type": "stream",
     "text": [
      "56.800000000000004 511.2 47.853 361.147\n"
     ]
    }
   ],
   "source": [
    "a = 568 * 0.1\n",
    "b = 568 * (1 - 0.1)\n",
    "c = 409 * 0.117\n",
    "d = 409 * (1 - 0.117)\n",
    "print(a, b, c, d)"
   ]
  },
  {
   "cell_type": "code",
   "execution_count": 41,
   "metadata": {
    "collapsed": false
   },
   "outputs": [
    {
     "data": {
      "text/plain": [
       "104.653"
      ]
     },
     "execution_count": 41,
     "metadata": {},
     "output_type": "execute_result"
    }
   ],
   "source": [
    "col1tot = a + c\n",
    "col2tot = b + d\n",
    "Ntot = 977\n",
    "col1tot"
   ]
  },
  {
   "cell_type": "code",
   "execution_count": 42,
   "metadata": {
    "collapsed": false
   },
   "outputs": [
    {
     "data": {
      "text/plain": [
       "872.347"
      ]
     },
     "execution_count": 42,
     "metadata": {},
     "output_type": "execute_result"
    }
   ],
   "source": [
    "col2tot"
   ]
  },
  {
   "cell_type": "markdown",
   "metadata": {},
   "source": [
    "**Observed:**\n",
    "\n",
    "|Convicted felony|Yes|No|\n",
    "|:--------------:|:------:|:----------:|\n",
    "|test sample|0.1*568 = 56.8|0.9*568 = 511.2|568|\n",
    "|control sample|0.117*409 = 47.853|0.883*409 = 361.147|409|\n",
    "|\n",
    "|Total|104.653|872.347|977|"
   ]
  },
  {
   "cell_type": "markdown",
   "metadata": {},
   "source": [
    "**Expected:**\n",
    "\n",
    "|Convicted felony|Yes|No|\n",
    "|:--------------:|:------:|:----------:|\n",
    "|test sample|(568*104.653)/977 = 60.84|(568*872.347)/977 = 507.16|568|\n",
    "|control sample|(409*104.653)/977 = 43.81|(409*872.347)/977 = 365.19|409|\n",
    "|\n",
    "|Total|104.653|872.347|977|"
   ]
  },
  {
   "cell_type": "code",
   "execution_count": 43,
   "metadata": {
    "collapsed": false
   },
   "outputs": [
    {
     "name": "stdout",
     "output_type": "stream",
     "text": [
      "0.7184939175052886\n"
     ]
    }
   ],
   "source": [
    "def chisqstat(N, values, expect_num):\n",
    "    return(((values[0][0] * values[1][1] - values[0][1] * values[1][0])**2) * N / expect_num)\n",
    "\n",
    "Ntot = 977\n",
    "expected_num = 568 * 409 * 104.653 * 872.347\n",
    "sample_values = [[0.1 * 568, 0.9 * 568], [0.117 * 409, 0.883 * 409]]\n",
    " \n",
    "\n",
    "print (chisqstat(Ntot,  sample_values, expected_num))"
   ]
  },
  {
   "cell_type": "markdown",
   "metadata": {},
   "source": [
    "## How to read a Chisquare table\n",
    "\n",
    "https://github.com/fedhere/UInotebooks/blob/master/HowToReadZandChisqTables.md\n",
    "\n",
    "## Chisquare table\n",
    "\n",
    "http://passel.unl.edu/Image/Namuth-CovertDeana956176274/chi-sqaure%20distribution%20table.PNG"
   ]
  },
  {
   "cell_type": "code",
   "execution_count": 54,
   "metadata": {
    "collapsed": false
   },
   "outputs": [
    {
     "name": "stdout",
     "output_type": "stream",
     "text": [
      "is the p value 0.38 smaller than the critical value 0.05? \n",
      "NO!\n",
      "the Null hypothesis is not rejected\n"
     ]
    }
   ],
   "source": [
    "# Degrees of freedom = 1, since df = n - 1 (where n is the number of classes, in this case 2 - the control and program groups)\n",
    "# Our chi-square value of 0.72 falls between the areas 0.455 and 1.32 in the table, returning a p-value between 0.25 and 0.5. \n",
    "# For simplicity's sake, we'll take the average of these and determine a p-value of 0.375.\n",
    "\n",
    "# P-value\n",
    "p_chi = 0.375\n",
    "\n",
    "\n",
    "def report_result(p,a):\n",
    "    print ('is the p value {0:.2f} smaller than the critical value {1:.2f}? '.format(p,a))\n",
    "    if p < a:\n",
    "        print (\"YES!\")\n",
    "    else: \n",
    "        print (\"NO!\")\n",
    "    \n",
    "    print ('the Null hypothesis is {}'.format( 'rejected' if p < a  else 'not rejected') )\n",
    "\n",
    "    \n",
    "report_result(p_chi,alpha)"
   ]
  },
  {
   "cell_type": "markdown",
   "metadata": {},
   "source": [
    "## Chi-Square Test Conclusion: Convicted of a felony\n",
    "\n",
    "From our chi-square value, we obtained a p-value between 0.25 and 0.5 from the chi-square table. This range is greater than our alpha level of 0.05, so we fail to reject the null hypothesis that those in the program group have the same or higher rates of felonies over three years after the program than those in the control grou"
   ]
  },
  {
   "cell_type": "code",
   "execution_count": null,
   "metadata": {
    "collapsed": true
   },
   "outputs": [],
   "source": []
  }
 ],
 "metadata": {
  "kernelspec": {
   "display_name": "PUI2016_Python3",
   "language": "python",
   "name": "pui2016_python3"
  },
  "language_info": {
   "codemirror_mode": {
    "name": "ipython",
    "version": 3
   },
   "file_extension": ".py",
   "mimetype": "text/x-python",
   "name": "python",
   "nbconvert_exporter": "python",
   "pygments_lexer": "ipython3",
   "version": "3.5.2"
  }
 },
 "nbformat": 4,
 "nbformat_minor": 0
}
