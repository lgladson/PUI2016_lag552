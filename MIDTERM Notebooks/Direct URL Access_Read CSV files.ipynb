{
 "cells": [
  {
   "cell_type": "code",
   "execution_count": 5,
   "metadata": {
    "collapsed": true
   },
   "outputs": [],
   "source": [
    "import pandas as pd\n",
    "import os"
   ]
  },
  {
   "cell_type": "markdown",
   "metadata": {},
   "source": [
    "## Import Directly"
   ]
  },
  {
   "cell_type": "code",
   "execution_count": 3,
   "metadata": {
    "collapsed": false,
    "scrolled": true
   },
   "outputs": [
    {
     "name": "stdout",
     "output_type": "stream",
     "text": [
      "                              Country         Region\n",
      "0                             Algeria         AFRICA\n",
      "1                              Angola         AFRICA\n",
      "2                               Benin         AFRICA\n",
      "3                            Botswana         AFRICA\n",
      "4                             Burkina         AFRICA\n",
      "5                             Burundi         AFRICA\n",
      "6                            Cameroon         AFRICA\n",
      "7                          Cape Verde         AFRICA\n",
      "8            Central African Republic         AFRICA\n",
      "9                                Chad         AFRICA\n",
      "10                            Comoros         AFRICA\n",
      "11                              Congo         AFRICA\n",
      "12      Congo, Democratic Republic of         AFRICA\n",
      "13                           Djibouti         AFRICA\n",
      "14                              Egypt         AFRICA\n",
      "15                  Equatorial Guinea         AFRICA\n",
      "16                            Eritrea         AFRICA\n",
      "17                           Ethiopia         AFRICA\n",
      "18                              Gabon         AFRICA\n",
      "19                             Gambia         AFRICA\n",
      "20                              Ghana         AFRICA\n",
      "21                             Guinea         AFRICA\n",
      "22                      Guinea-Bissau         AFRICA\n",
      "23                        Ivory Coast         AFRICA\n",
      "24                              Kenya         AFRICA\n",
      "25                            Lesotho         AFRICA\n",
      "26                            Liberia         AFRICA\n",
      "27                              Libya         AFRICA\n",
      "28                         Madagascar         AFRICA\n",
      "29                             Malawi         AFRICA\n",
      "..                                ...            ...\n",
      "164                       Saint Lucia  NORTH AMERICA\n",
      "165  Saint Vincent and the Grenadines  NORTH AMERICA\n",
      "166               Trinidad and Tobago  NORTH AMERICA\n",
      "167                     United States  NORTH AMERICA\n",
      "168                         Australia        OCEANIA\n",
      "169                              Fiji        OCEANIA\n",
      "170                          Kiribati        OCEANIA\n",
      "171                  Marshall Islands        OCEANIA\n",
      "172                        Micronesia        OCEANIA\n",
      "173                             Nauru        OCEANIA\n",
      "174                       New Zealand        OCEANIA\n",
      "175                             Palau        OCEANIA\n",
      "176                  Papua New Guinea        OCEANIA\n",
      "177                             Samoa        OCEANIA\n",
      "178                   Solomon Islands        OCEANIA\n",
      "179                             Tonga        OCEANIA\n",
      "180                            Tuvalu        OCEANIA\n",
      "181                           Vanuatu        OCEANIA\n",
      "182                         Argentina  SOUTH AMERICA\n",
      "183                           Bolivia  SOUTH AMERICA\n",
      "184                            Brazil  SOUTH AMERICA\n",
      "185                             Chile  SOUTH AMERICA\n",
      "186                          Colombia  SOUTH AMERICA\n",
      "187                           Ecuador  SOUTH AMERICA\n",
      "188                            Guyana  SOUTH AMERICA\n",
      "189                          Paraguay  SOUTH AMERICA\n",
      "190                              Peru  SOUTH AMERICA\n",
      "191                          Suriname  SOUTH AMERICA\n",
      "192                           Uruguay  SOUTH AMERICA\n",
      "193                         Venezuela  SOUTH AMERICA\n",
      "\n",
      "[194 rows x 2 columns]\n"
     ]
    }
   ],
   "source": [
    "#import directly\n",
    "c = pd.read_csv(\"https://raw.githubusercontent.com/cs109/2014_data/master/countries.csv\")\n",
    "print(c)"
   ]
  },
  {
   "cell_type": "markdown",
   "metadata": {},
   "source": [
    "## Download data (i.e., zipped csv)"
   ]
  },
  {
   "cell_type": "code",
   "execution_count": null,
   "metadata": {
    "collapsed": true
   },
   "outputs": [],
   "source": [
    "!curl -O https://s3.amazonaws.com/tripdata/201512-citibike-tripdata.zip"
   ]
  },
  {
   "cell_type": "code",
   "execution_count": null,
   "metadata": {
    "collapsed": true
   },
   "outputs": [],
   "source": [
    "#OR\n",
    "url = \"https://s3.amazonaws.com/tripdata/201512-citibike-tripdata.zip\"\n",
    "os.system(\"curl -O \" + url)"
   ]
  },
  {
   "cell_type": "code",
   "execution_count": null,
   "metadata": {
    "collapsed": true
   },
   "outputs": [],
   "source": []
  },
  {
   "cell_type": "markdown",
   "metadata": {},
   "source": [
    "### Move to PUIDATA"
   ]
  },
  {
   "cell_type": "code",
   "execution_count": 6,
   "metadata": {
    "collapsed": false
   },
   "outputs": [
    {
     "data": {
      "text/plain": [
       "'/home/cusp/lag552/PUIdata'"
      ]
     },
     "execution_count": 6,
     "metadata": {},
     "output_type": "execute_result"
    }
   ],
   "source": [
    "#check env variable\n",
    "os.getenv('PUIDATA')"
   ]
  },
  {
   "cell_type": "code",
   "execution_count": 7,
   "metadata": {
    "collapsed": false
   },
   "outputs": [
    {
     "data": {
      "text/plain": [
       "0"
      ]
     },
     "execution_count": 7,
     "metadata": {},
     "output_type": "execute_result"
    }
   ],
   "source": [
    "# move to PUIDATA\n",
    "os.system(\"curl -O https://data.cityofnewyork.us/api/views/rgfe-8y2z/rows.csv\")\n",
    "os.system(\"mv rows.csv \" + os.getenv(\"PUIDATA\"))"
   ]
  },
  {
   "cell_type": "code",
   "execution_count": 15,
   "metadata": {
    "collapsed": false
   },
   "outputs": [
    {
     "name": "stdout",
     "output_type": "stream",
     "text": [
      "Archive:  201512-citibike-tripdata.zip\n",
      "replace 201512-citibike-tripdata.csv? [y]es, [n]o, [A]ll, [N]one, [r]ename: ^C\n"
     ]
    }
   ],
   "source": [
    "# if needed: \n",
    "!unzip 201512-citibike-tripdata.zip"
   ]
  },
  {
   "cell_type": "markdown",
   "metadata": {},
   "source": [
    "### Download to notebook"
   ]
  },
  {
   "cell_type": "code",
   "execution_count": 9,
   "metadata": {
    "collapsed": false
   },
   "outputs": [
    {
     "data": {
      "text/html": [
       "<div>\n",
       "<table border=\"1\" class=\"dataframe\">\n",
       "  <thead>\n",
       "    <tr style=\"text-align: right;\">\n",
       "      <th></th>\n",
       "      <th>Record Number</th>\n",
       "      <th>NYC Borough, Block, and Lot (BBL)</th>\n",
       "      <th>Co-reported BBL Status</th>\n",
       "      <th>BBLs Co-reported</th>\n",
       "      <th>Reported NYC Building Identificaiton Numbers (BINs)</th>\n",
       "      <th>Street Number</th>\n",
       "      <th>Street Name</th>\n",
       "      <th>Borough</th>\n",
       "      <th>Zip Code</th>\n",
       "      <th>DOF Benchmarking Submission Status</th>\n",
       "      <th>...</th>\n",
       "      <th>Automatic Water Benchmarking Eligible</th>\n",
       "      <th>Reported Water Method</th>\n",
       "      <th>ENERGY STAR Score</th>\n",
       "      <th>Total GHG Emissions(MtCO2e)</th>\n",
       "      <th>Direct GHG Emissions(MtCO2e)</th>\n",
       "      <th>Indirect GHG Emissions(MtCO2e)</th>\n",
       "      <th>Reported Property Floor Area (Building(s)) (ft²)</th>\n",
       "      <th>DOF Property Floor Area (Buildngs and Parking)(ft2)</th>\n",
       "      <th>Primary Property Type - Self Selected</th>\n",
       "      <th>DOF Number of Buildings</th>\n",
       "    </tr>\n",
       "  </thead>\n",
       "  <tbody>\n",
       "    <tr>\n",
       "      <th>0</th>\n",
       "      <td>12086</td>\n",
       "      <td>1.000410e+09</td>\n",
       "      <td>NaN</td>\n",
       "      <td>1000410001</td>\n",
       "      <td>1001007</td>\n",
       "      <td>NaN</td>\n",
       "      <td>NaN</td>\n",
       "      <td>Manhattan</td>\n",
       "      <td>NaN</td>\n",
       "      <td>BBL not valid</td>\n",
       "      <td>...</td>\n",
       "      <td>NaN</td>\n",
       "      <td>NaN</td>\n",
       "      <td>Not Available</td>\n",
       "      <td>NaN</td>\n",
       "      <td>NaN</td>\n",
       "      <td>NaN</td>\n",
       "      <td>918919</td>\n",
       "      <td>NaN</td>\n",
       "      <td>Office</td>\n",
       "      <td>NaN</td>\n",
       "    </tr>\n",
       "    <tr>\n",
       "      <th>1</th>\n",
       "      <td>14354</td>\n",
       "      <td>4.021460e+09</td>\n",
       "      <td>NaN</td>\n",
       "      <td>NaN</td>\n",
       "      <td>NaN</td>\n",
       "      <td>63-10</td>\n",
       "      <td>108 STREET</td>\n",
       "      <td>Queens</td>\n",
       "      <td>11375.0</td>\n",
       "      <td>No Submission Matched to BBL</td>\n",
       "      <td>...</td>\n",
       "      <td>Yes</td>\n",
       "      <td>None</td>\n",
       "      <td>NaN</td>\n",
       "      <td>NaN</td>\n",
       "      <td>NaN</td>\n",
       "      <td>NaN</td>\n",
       "      <td>NaN</td>\n",
       "      <td>82730.0</td>\n",
       "      <td>NaN</td>\n",
       "      <td>1.0</td>\n",
       "    </tr>\n",
       "    <tr>\n",
       "      <th>2</th>\n",
       "      <td>12150</td>\n",
       "      <td>2.027620e+09</td>\n",
       "      <td>NaN</td>\n",
       "      <td>2027620097</td>\n",
       "      <td>2006460</td>\n",
       "      <td>NaN</td>\n",
       "      <td>NaN</td>\n",
       "      <td>Bronx</td>\n",
       "      <td>NaN</td>\n",
       "      <td>BBL not valid</td>\n",
       "      <td>...</td>\n",
       "      <td>NaN</td>\n",
       "      <td>NaN</td>\n",
       "      <td>Not Available</td>\n",
       "      <td>NaN</td>\n",
       "      <td>NaN</td>\n",
       "      <td>NaN</td>\n",
       "      <td>64200</td>\n",
       "      <td>NaN</td>\n",
       "      <td>Multifamily Housing</td>\n",
       "      <td>NaN</td>\n",
       "    </tr>\n",
       "    <tr>\n",
       "      <th>3</th>\n",
       "      <td>12590</td>\n",
       "      <td>1.006700e+09</td>\n",
       "      <td>NaN</td>\n",
       "      <td>NaN</td>\n",
       "      <td>NaN</td>\n",
       "      <td>201</td>\n",
       "      <td>11 AVENUE</td>\n",
       "      <td>Manhattan</td>\n",
       "      <td>10001.0</td>\n",
       "      <td>No Submission Matched to BBL</td>\n",
       "      <td>...</td>\n",
       "      <td>No</td>\n",
       "      <td>None</td>\n",
       "      <td>NaN</td>\n",
       "      <td>NaN</td>\n",
       "      <td>NaN</td>\n",
       "      <td>NaN</td>\n",
       "      <td>NaN</td>\n",
       "      <td>440360.0</td>\n",
       "      <td>NaN</td>\n",
       "      <td>1.0</td>\n",
       "    </tr>\n",
       "    <tr>\n",
       "      <th>4</th>\n",
       "      <td>15591</td>\n",
       "      <td>2.048300e+09</td>\n",
       "      <td>NaN</td>\n",
       "      <td>2048300034</td>\n",
       "      <td>2063117</td>\n",
       "      <td>NaN</td>\n",
       "      <td>NaN</td>\n",
       "      <td>Bronx</td>\n",
       "      <td>NaN</td>\n",
       "      <td>Not on Covered Buildings List</td>\n",
       "      <td>...</td>\n",
       "      <td>NaN</td>\n",
       "      <td>None</td>\n",
       "      <td>Not Available</td>\n",
       "      <td>NaN</td>\n",
       "      <td>NaN</td>\n",
       "      <td>NaN</td>\n",
       "      <td>50000</td>\n",
       "      <td>NaN</td>\n",
       "      <td>Multifamily Housing</td>\n",
       "      <td>NaN</td>\n",
       "    </tr>\n",
       "  </tbody>\n",
       "</table>\n",
       "<p>5 rows × 25 columns</p>\n",
       "</div>"
      ],
      "text/plain": [
       "   Record Number  NYC Borough, Block, and Lot (BBL) Co-reported BBL Status  \\\n",
       "0          12086                       1.000410e+09                    NaN   \n",
       "1          14354                       4.021460e+09                    NaN   \n",
       "2          12150                       2.027620e+09                    NaN   \n",
       "3          12590                       1.006700e+09                    NaN   \n",
       "4          15591                       2.048300e+09                    NaN   \n",
       "\n",
       "  BBLs Co-reported Reported NYC Building Identificaiton Numbers (BINs)  \\\n",
       "0       1000410001                                            1001007    \n",
       "1              NaN                                                NaN    \n",
       "2       2027620097                                            2006460    \n",
       "3              NaN                                                NaN    \n",
       "4       2048300034                                            2063117    \n",
       "\n",
       "  Street Number Street Name    Borough  Zip Code  \\\n",
       "0           NaN         NaN  Manhattan       NaN   \n",
       "1         63-10  108 STREET     Queens   11375.0   \n",
       "2           NaN         NaN      Bronx       NaN   \n",
       "3           201   11 AVENUE  Manhattan   10001.0   \n",
       "4           NaN         NaN      Bronx       NaN   \n",
       "\n",
       "  DOF Benchmarking Submission Status           ...            \\\n",
       "0                      BBL not valid           ...             \n",
       "1       No Submission Matched to BBL           ...             \n",
       "2                      BBL not valid           ...             \n",
       "3       No Submission Matched to BBL           ...             \n",
       "4      Not on Covered Buildings List           ...             \n",
       "\n",
       "  Automatic Water Benchmarking Eligible Reported Water Method  \\\n",
       "0                                   NaN                   NaN   \n",
       "1                                   Yes                  None   \n",
       "2                                   NaN                   NaN   \n",
       "3                                    No                  None   \n",
       "4                                   NaN                  None   \n",
       "\n",
       "  ENERGY STAR Score Total GHG Emissions(MtCO2e) Direct GHG Emissions(MtCO2e)  \\\n",
       "0     Not Available                         NaN                          NaN   \n",
       "1               NaN                         NaN                          NaN   \n",
       "2     Not Available                         NaN                          NaN   \n",
       "3               NaN                         NaN                          NaN   \n",
       "4     Not Available                         NaN                          NaN   \n",
       "\n",
       "  Indirect GHG Emissions(MtCO2e)  \\\n",
       "0                            NaN   \n",
       "1                            NaN   \n",
       "2                            NaN   \n",
       "3                            NaN   \n",
       "4                            NaN   \n",
       "\n",
       "  Reported Property Floor Area (Building(s)) (ft²)  \\\n",
       "0                                           918919   \n",
       "1                                              NaN   \n",
       "2                                            64200   \n",
       "3                                              NaN   \n",
       "4                                            50000   \n",
       "\n",
       "  DOF Property Floor Area (Buildngs and Parking)(ft2)  \\\n",
       "0                                                NaN    \n",
       "1                                            82730.0    \n",
       "2                                                NaN    \n",
       "3                                           440360.0    \n",
       "4                                                NaN    \n",
       "\n",
       "  Primary Property Type - Self Selected DOF Number of Buildings  \n",
       "0                                Office                     NaN  \n",
       "1                                   NaN                     1.0  \n",
       "2                   Multifamily Housing                     NaN  \n",
       "3                                   NaN                     1.0  \n",
       "4                   Multifamily Housing                     NaN  \n",
       "\n",
       "[5 rows x 25 columns]"
      ]
     },
     "execution_count": 9,
     "metadata": {},
     "output_type": "execute_result"
    }
   ],
   "source": [
    "# download it to notebook\n",
    "nrg = pd.read_csv(os.getenv('PUIDATA') + '/' + 'rows.csv')\n",
    "nrg.head()"
   ]
  },
  {
   "cell_type": "markdown",
   "metadata": {},
   "source": [
    "## Header Issues?"
   ]
  },
  {
   "cell_type": "code",
   "execution_count": 12,
   "metadata": {
    "collapsed": false
   },
   "outputs": [
    {
     "data": {
      "text/plain": [
       "0"
      ]
     },
     "execution_count": 12,
     "metadata": {},
     "output_type": "execute_result"
    }
   ],
   "source": [
    "os.system(\"curl -O https://raw.githubusercontent.com/fedhere/PUI2016_fb55/master/Lab3_fb55/times.txt\")\n",
    "os.system(\"mv times.txt \" + os.getenv(\"PUIDATA\"))"
   ]
  },
  {
   "cell_type": "code",
   "execution_count": 13,
   "metadata": {
    "collapsed": false
   },
   "outputs": [
    {
     "data": {
      "text/html": [
       "<div>\n",
       "<table border=\"1\" class=\"dataframe\">\n",
       "  <thead>\n",
       "    <tr style=\"text-align: right;\">\n",
       "      <th></th>\n",
       "      <th>durations</th>\n",
       "    </tr>\n",
       "  </thead>\n",
       "  <tbody>\n",
       "    <tr>\n",
       "      <th>0</th>\n",
       "      <td>31.622239</td>\n",
       "    </tr>\n",
       "    <tr>\n",
       "      <th>1</th>\n",
       "      <td>32.821376</td>\n",
       "    </tr>\n",
       "    <tr>\n",
       "      <th>2</th>\n",
       "      <td>30.229101</td>\n",
       "    </tr>\n",
       "    <tr>\n",
       "      <th>3</th>\n",
       "      <td>31.413766</td>\n",
       "    </tr>\n",
       "    <tr>\n",
       "      <th>4</th>\n",
       "      <td>39.010550</td>\n",
       "    </tr>\n",
       "  </tbody>\n",
       "</table>\n",
       "</div>"
      ],
      "text/plain": [
       "   durations\n",
       "0  31.622239\n",
       "1  32.821376\n",
       "2  30.229101\n",
       "3  31.413766\n",
       "4  39.010550"
      ]
     },
     "execution_count": 13,
     "metadata": {},
     "output_type": "execute_result"
    }
   ],
   "source": [
    "times = pd.read_csv(os.getenv('PUIDATA') + '/' + 'times.txt', names=['durations'], header = None)\n",
    "times.head()"
   ]
  },
  {
   "cell_type": "markdown",
   "metadata": {},
   "source": []
  },
  {
   "cell_type": "markdown",
   "metadata": {},
   "source": []
  },
  {
   "cell_type": "code",
   "execution_count": null,
   "metadata": {
    "collapsed": true
   },
   "outputs": [],
   "source": []
  }
 ],
 "metadata": {
  "kernelspec": {
   "display_name": "PUI2016_Python3",
   "language": "python",
   "name": "pui2016_python3"
  },
  "language_info": {
   "codemirror_mode": {
    "name": "ipython",
    "version": 3
   },
   "file_extension": ".py",
   "mimetype": "text/x-python",
   "name": "python",
   "nbconvert_exporter": "python",
   "pygments_lexer": "ipython3",
   "version": "3.5.2"
  }
 },
 "nbformat": 4,
 "nbformat_minor": 0
}
